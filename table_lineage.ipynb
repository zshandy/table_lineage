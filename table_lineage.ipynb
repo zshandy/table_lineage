{
 "cells": [
  {
   "cell_type": "code",
   "execution_count": 1,
   "id": "451f5f86",
   "metadata": {},
   "outputs": [],
   "source": [
    "%load_ext autoreload\n",
    "%autoreload 2\n",
    "from table_extraction import *\n",
    "cwd = os.getcwd()"
   ]
  },
  {
   "cell_type": "code",
   "execution_count": 3,
   "id": "c238fe7d",
   "metadata": {},
   "outputs": [
    {
     "data": {
      "text/plain": [
       "'D:\\\\WORK\\\\PhD\\\\notebook\\\\table_lineage\\\\cookbook'"
      ]
     },
     "execution_count": 3,
     "metadata": {},
     "output_type": "execute_result"
    }
   ],
   "source": [
    "os.path.join(cwd, 'cookbook')"
   ]
  },
  {
   "cell_type": "code",
   "execution_count": null,
   "id": "378c9b42",
   "metadata": {
    "scrolled": true
   },
   "outputs": [
    {
     "name": "stdout",
     "output_type": "stream",
     "text": [
      "gateway opened\n",
      "gateway tested\n",
      "database connected\n",
      "D:\\WORK\\PhD\\notebook\\table_lineage\\cookbook\\age_histogram.sql mimiciii_clinical.admissions,mimiciii_clinical.patients\n",
      "D:\\WORK\\PhD\\notebook\\table_lineage\\cookbook\\basic_patient_info.sql mimiciii_clinical.patients\n",
      "D:\\WORK\\PhD\\notebook\\table_lineage\\cookbook\\bun.sql mimiciii_clinical.labevents,mimiciii_clinical.admissions,mimiciii_clinical.patients\n",
      "D:\\WORK\\PhD\\notebook\\table_lineage\\cookbook\\gcs.sql mimiciii_clinical.chartevents,mimiciii_clinical.admissions,mimiciii_clinical.patients\n",
      "D:\\WORK\\PhD\\notebook\\table_lineage\\cookbook\\glucose.sql mimiciii_clinical.labevents,mimiciii_clinical.admissions,mimiciii_clinical.patients\n",
      "D:\\WORK\\PhD\\notebook\\table_lineage\\cookbook\\hco.sql mimiciii_clinical.labevents,mimiciii_clinical.admissions,mimiciii_clinical.patients\n",
      "D:\\WORK\\PhD\\notebook\\table_lineage\\cookbook\\heart_rate.sql mimiciii_clinical.chartevents,mimiciii_clinical.admissions,mimiciii_clinical.patients\n",
      "D:\\WORK\\PhD\\notebook\\table_lineage\\cookbook\\height.sql mimiciii_clinical.chartevents\n",
      "D:\\WORK\\PhD\\notebook\\table_lineage\\cookbook\\icd9agelimited.sql mimiciii_clinical.diagnoses_icd,mimiciii_clinical.admissions,mimiciii_clinical.patients\n",
      "D:\\WORK\\PhD\\notebook\\table_lineage\\cookbook\\icd9count.sql mimiciii_clinical.diagnoses_icd\n"
     ]
    }
   ],
   "source": [
    "df, table_dict = table_extraction(\"postgresql://52.89.148.112:5432/mimic\", 'postgres', 'password', os.path.join(cwd, 'cookbook'))\n",
    "df"
   ]
  },
  {
   "cell_type": "code",
   "execution_count": 173,
   "id": "216dc233",
   "metadata": {},
   "outputs": [],
   "source": [
    "#path = cwd + \"/mimic-code/mimic-iii/concepts/cookbook/icustay_days.sql\"\n",
    "path = cwd + \"/mimic-code/mimic-iii/concepts/durations/weight_durations.sql\""
   ]
  },
  {
   "cell_type": "code",
   "execution_count": 174,
   "id": "0f42aef1",
   "metadata": {
    "scrolled": true
   },
   "outputs": [
    {
     "name": "stdout",
     "output_type": "stream",
     "text": [
      "gateway opened\n",
      "gateway tested\n",
      "database connected\n",
      "['DATETIME_ADD(GREATEST(outtime', 'starttime)', \"INTERVAL '2' HOUR)\"]\n",
      "['DATETIME_ADD(outtime', \"INTERVAL '2' HOUR)\"]\n",
      "with wt_neonate as ( select c.icustay_id,c.charttime,max(case when c.itemid = 3580 then c.valuenum end) as wt_kg,max(case when c.itemid = 3581 then c.valuenum end) as wt_lb,max(case when c.itemid = 3582 then c.valuenum end) as wt_oz from mimiciii_clinical.chartevents c where c.itemid in (3580,3581,3582) and c.icustay_id is not null and coalesce(c.error,0) = 0 and c.valuenum > 0 group by c.icustay_id,c.charttime ),birth_wt as ( select c.icustay_id,c.charttime,max( case when c.itemid = 4183 then case when regexp_contains(c.value,'[^0-9\\\\.]') then null when cast(c.value as numeric) > 100 then cast(c.value as numeric)/1000 when cast(c.value as numeric) < 10 then cast(c.value as numeric) else null end when c.itemid = 3723 and c.valuenum < 10 then c.valuenum else null end) as wt_kg from mimiciii_clinical.chartevents c where c.itemid in (3723,4183) and c.icustay_id is not null and coalesce(c.error,0) = 0 group by c.icustay_id,c.charttime ),wt_stg as ( select c.icustay_id,c.charttime,case when c.itemid in (762,226512) then 'admit' else 'daily' end as weight_type,c.valuenum as weight from mimiciii_clinical.chartevents c where c.valuenum is not null and c.itemid in ( 762,226512,763,224639 ) and c.icustay_id is not null and c.valuenum > 0 and coalesce(c.error,0) = 0 union all select n.icustay_id,n.charttime,'daily' as weight_type,case when wt_kg is not null then wt_kg when wt_lb is not null then wt_lb*0.45359237 + wt_oz*0.0283495231 else null end as weight from wt_neonate n union all select b.icustay_id,b.charttime,'admit' as weight_type,wt_kg as weight from birth_wt b ),echo as ( select ie.icustay_id,ec.charttime,'echo' as weight_type,0.453592*ec.weight as weight from mimiciii_clinical.icustays ie inner join mimiciii_derived.echo_data ec on ie.hadm_id = ec.hadm_id where ec.weight is not null and ie.icustay_id not in (select distinct icustay_id from wt_stg) ),wt_stg0 as ( select icustay_id,charttime,weight_type,weight from wt_stg union all select icustay_id,charttime,weight_type,weight from echo ),wt_stg1 as ( select icustay_id,charttime,weight_type,weight,row_number() over (partition by icustay_id,weight_type order by charttime) as rn from wt_stg0 where weight is not null ),wt_stg2 as ( select wt_stg1.icustay_id,ie.intime,ie.outtime,case when wt_stg1.weight_type = 'admit' and wt_stg1.rn = 1 then datetime_sub(ie.intime,interval '2' hour) else wt_stg1.charttime end as starttime,wt_stg1.weight from wt_stg1 inner join mimiciii_clinical.icustays ie on ie.icustay_id = wt_stg1.icustay_id ),wt_stg3 as ( select icustay_id,intime,outtime,starttime,coalesce( lead(starttime) over (partition by icustay_id order by starttime),timestampadd(hour, '2',greatest(outtime,starttime)) ) as endtime,weight from wt_stg2 ),wt1 as ( select icustay_id,starttime,coalesce(endtime,lead(starttime) over (partition by icustay_id order by starttime),timestampadd(hour, '2',outtime) ) as endtime,weight from wt_stg3 ),wt_fix as ( select ie.icustay_id,datetime_sub(ie.intime,interval '2' hour) as starttime,wt.starttime as endtime,wt.weight from mimiciii_clinical.icustays ie inner join ( select wt1.icustay_id,wt1.starttime,wt1.weight,row_number() over (partition by wt1.icustay_id order by wt1.starttime) as rn from wt1 ) wt on ie.icustay_id = wt.icustay_id and wt.rn = 1 and ie.intime < wt.starttime ) select wt1.icustay_id,wt1.starttime,wt1.endtime,wt1.weight from wt1 union all select wt_fix.icustay_id,wt_fix.starttime,wt_fix.endtime,wt_fix.weight from wt_fix\n",
      "D:\\WORK\\PhD\\notebook/mimic-code/mimic-iii/concepts/durations/weight_durations.sql None\n"
     ]
    }
   ],
   "source": [
    "df = table_extraction(\"postgresql://52.89.148.112:5432/mimic\", 'postgres', 'password', path)"
   ]
  },
  {
   "cell_type": "code",
   "execution_count": 169,
   "id": "131dce15",
   "metadata": {},
   "outputs": [
    {
     "data": {
      "text/plain": [
       "'TIMESTAMPADD(HOUR, CAST(hr AS INT64),endtime)'"
      ]
     },
     "execution_count": 169,
     "metadata": {},
     "output_type": "execute_result"
    }
   ],
   "source": [
    "s = \"DATETIME_ADD(endtime, INTERVAL CAST(hr AS INT64) HOUR)\"\n",
    "temp = s.split(',')\n",
    "sub = \"TIMESTAMPADD(\" + temp[-1][:-1].split(\" \")[-1] + \",\" + re.split(r\"(.*)(?=\\s)\", s)[1].split('INTERVAL')[-1] + \",\" + re.split(r\"(\\()(.*)\", re.split(r\"(.*)(?=\\,)\", s)[1])[-2] + \")\"\n",
    "sub"
   ]
  },
  {
   "cell_type": "code",
   "execution_count": null,
   "id": "6a9d0ca0",
   "metadata": {},
   "outputs": [],
   "source": []
  }
 ],
 "metadata": {
  "kernelspec": {
   "display_name": "py38",
   "language": "python",
   "name": "py38"
  },
  "language_info": {
   "codemirror_mode": {
    "name": "ipython",
    "version": 3
   },
   "file_extension": ".py",
   "mimetype": "text/x-python",
   "name": "python",
   "nbconvert_exporter": "python",
   "pygments_lexer": "ipython3",
   "version": "3.8.12"
  }
 },
 "nbformat": 4,
 "nbformat_minor": 5
}
